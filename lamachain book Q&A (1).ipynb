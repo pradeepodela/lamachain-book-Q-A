{
 "cells": [
  {
   "cell_type": "code",
   "execution_count": 26,
   "id": "986cdac7",
   "metadata": {},
   "outputs": [
    {
     "name": "stdout",
     "output_type": "stream",
     "text": [
      "Collecting tiktoken\n",
      "  Downloading tiktoken-0.4.0-cp310-cp310-macosx_10_9_x86_64.whl (797 kB)\n",
      "\u001b[2K     \u001b[90m━━━━━━━━━━━━━━━━━━━━━━━━━━━━━━━━━━━━━━━\u001b[0m \u001b[32m798.0/798.0 kB\u001b[0m \u001b[31m3.5 MB/s\u001b[0m eta \u001b[36m0:00:00\u001b[0ma \u001b[36m0:00:01\u001b[0m\n",
      "\u001b[?25hCollecting regex>=2022.1.18\n",
      "  Downloading regex-2023.5.5-cp310-cp310-macosx_10_9_x86_64.whl (294 kB)\n",
      "\u001b[2K     \u001b[90m━━━━━━━━━━━━━━━━━━━━━━━━━━━━━━━━━━━━━━━\u001b[0m \u001b[32m294.4/294.4 kB\u001b[0m \u001b[31m5.5 MB/s\u001b[0m eta \u001b[36m0:00:00\u001b[0ma \u001b[36m0:00:01\u001b[0m\n",
      "\u001b[?25hRequirement already satisfied: requests>=2.26.0 in ./mambaforge/lib/python3.10/site-packages (from tiktoken) (2.28.2)\n",
      "Requirement already satisfied: idna<4,>=2.5 in ./mambaforge/lib/python3.10/site-packages (from requests>=2.26.0->tiktoken) (3.4)\n",
      "Requirement already satisfied: urllib3<1.27,>=1.21.1 in ./mambaforge/lib/python3.10/site-packages (from requests>=2.26.0->tiktoken) (1.26.14)\n",
      "Requirement already satisfied: certifi>=2017.4.17 in ./mambaforge/lib/python3.10/site-packages (from requests>=2.26.0->tiktoken) (2022.12.7)\n",
      "Requirement already satisfied: charset-normalizer<4,>=2 in ./mambaforge/lib/python3.10/site-packages (from requests>=2.26.0->tiktoken) (2.1.1)\n",
      "Installing collected packages: regex, tiktoken\n",
      "Successfully installed regex-2023.5.5 tiktoken-0.4.0\n"
     ]
    }
   ],
   "source": [
    "# !pip install langchain\n",
    "# !pip install pypdf\n",
    "# !pip install pinecone-client\n",
    "# !pip install tiktoken"
   ]
  },
  {
   "cell_type": "code",
   "execution_count": 3,
   "id": "bef6479c",
   "metadata": {},
   "outputs": [],
   "source": [
    "# PDF Loaders. If unstructured gives you a hard time, try PyPDFLoader\n",
    "from langchain.document_loaders import UnstructuredPDFLoader, OnlinePDFLoader, PyPDFLoader\n",
    "from langchain.text_splitter import RecursiveCharacterTextSplitter\n",
    "import os"
   ]
  },
  {
   "cell_type": "code",
   "execution_count": 7,
   "id": "94e822d9",
   "metadata": {},
   "outputs": [],
   "source": [
    "loader = PyPDFLoader(\"Downloads/naval.pdf\")\n"
   ]
  },
  {
   "cell_type": "code",
   "execution_count": 8,
   "id": "7ff59110",
   "metadata": {},
   "outputs": [],
   "source": [
    "data = loader.load()"
   ]
  },
  {
   "cell_type": "code",
   "execution_count": 9,
   "id": "db831383",
   "metadata": {},
   "outputs": [
    {
     "name": "stdout",
     "output_type": "stream",
     "text": [
      "You have 242 document(s) in your data\n",
      "There are 677 characters in your document\n"
     ]
    }
   ],
   "source": [
    "# Note: If you're using PyPDFLoader then it will split by page for you already\n",
    "print (f'You have {len(data)} document(s) in your data')\n",
    "print (f'There are {len(data[30].page_content)} characters in your document')"
   ]
  },
  {
   "cell_type": "code",
   "execution_count": 10,
   "id": "0ffd3b9e",
   "metadata": {},
   "outputs": [],
   "source": [
    "# Note: If you're using PyPDFLoader then we'll be splitting for the 2nd time.\n",
    "# This is optional, test out on your own data.\n",
    "\n",
    "text_splitter = RecursiveCharacterTextSplitter(chunk_size=2000, chunk_overlap=0)\n",
    "texts = text_splitter.split_documents(data)"
   ]
  },
  {
   "cell_type": "code",
   "execution_count": 11,
   "id": "03f4c6d3",
   "metadata": {},
   "outputs": [
    {
     "name": "stdout",
     "output_type": "stream",
     "text": [
      "Now you have 231 documents\n"
     ]
    }
   ],
   "source": [
    "print (f'Now you have {len(texts)} documents')\n"
   ]
  },
  {
   "cell_type": "code",
   "execution_count": 21,
   "id": "400d1894",
   "metadata": {},
   "outputs": [],
   "source": [
    "\n",
    "# Check to see if there is an environment variable with you API keys, if not, use what you put below\n",
    "OPENAI_API_KEY = ''\n",
    "\n",
    "PINECONE_API_KEY = ''\n",
    "PINECONE_API_ENV = 'northamerica-northeast1-gcp'"
   ]
  },
  {
   "cell_type": "code",
   "execution_count": 22,
   "id": "d7191033",
   "metadata": {},
   "outputs": [],
   "source": [
    "from langchain.vectorstores import Chroma, Pinecone\n",
    "from langchain.embeddings.openai import OpenAIEmbeddings\n",
    "import pinecone"
   ]
  },
  {
   "cell_type": "code",
   "execution_count": 23,
   "id": "2b987caa",
   "metadata": {},
   "outputs": [],
   "source": [
    "embeddings = OpenAIEmbeddings(openai_api_key=OPENAI_API_KEY)"
   ]
  },
  {
   "cell_type": "code",
   "execution_count": 24,
   "id": "d43ac41f",
   "metadata": {},
   "outputs": [],
   "source": [
    "# initialize pinecone\n",
    "pinecone.init(\n",
    "    api_key=PINECONE_API_KEY,  # find at app.pinecone.io\n",
    "    environment=PINECONE_API_ENV  # next to api key in console\n",
    ")\n",
    "index_name = \"book\" # put in the name of your pinecone index here"
   ]
  },
  {
   "cell_type": "code",
   "execution_count": 27,
   "id": "f8523dd5",
   "metadata": {},
   "outputs": [],
   "source": [
    "docsearch = Pinecone.from_texts([t.page_content for t in texts], embeddings, index_name=index_name)"
   ]
  },
  {
   "cell_type": "code",
   "execution_count": 28,
   "id": "c112ddc6",
   "metadata": {},
   "outputs": [],
   "source": [
    "query = \"how to create wealth?\"\n",
    "docs = docsearch.similarity_search(query)"
   ]
  },
  {
   "cell_type": "code",
   "execution_count": 29,
   "id": "59cf40ef",
   "metadata": {},
   "outputs": [
    {
     "data": {
      "text/plain": [
       "[Document(page_content='PART I\\nWEALTH\\nHow to get rich without getting lucky.', metadata={}),\n",
       " Document(page_content='BUILDING  WEALTH ·  31How to Get Rich (Without Getting Lucky):\\n↓\\nSeek wealth, not money or status. Wealth is having assets \\nthat earn while you sleep. Money is how we transfer time \\nand wealth. Status is your place in the social hierarchy.\\n↓\\nUnderstand ethical wealth creation is possible. If you secretly \\ndespise wealth, it will elude you.\\n↓\\nIgnore people playing status games. They gain status by \\nattacking people playing wealth creation games.\\n↓\\nYou’re not going to get rich renting out your time. You must \\nown equity—a piece of a business—to gain your financial \\nfreedom.\\n↓\\nYou will get rich by giving society what it wants but does not \\nyet know how to get. At scale.\\n↓', metadata={}),\n",
       " Document(page_content='38 · THE ALMANACK OF NAVAL RAVIKANTIf you’re looking toward the long-term goal of getting wealthy, \\nyou should ask yourself, “Is this authentic to me? Is it myself \\nthat I am projecting?” And then, “ Am I productizing it? Am I \\nscaling it? Am I scaling with labor or with capital or with code \\nor with media?” So it’s a very handy, simple mnemonic.\\xa0[78]\\nThis is hard. This is why I say it takes decades—I’m not saying \\nit takes decades to execute, but the better part of a decade may \\nbe figuring out what you can uniquely provide.\\xa0[10]\\nWhat’s the difference between wealth and money?\\nMoney is how we transfer wealth. Money is social credits. It \\nis the ability to have credits and debits of other people’ s time.\\nIf I do my job right, if I create value for society, society says, “Oh, \\nthank you. We owe you something in the future for the work \\nyou did in the past. Here’ s a little IOU. Let’ s call that money.”\\xa0[78]\\nWealth is the thing you want. Wealth is assets that earn while \\nyou sleep. Wealth is the factory, the robots, cranking out things. \\nWealth is the computer program that’ s running at night, serv -\\ning other customers. Wealth is even money in the bank that is \\nbeing reinvested into other assets, and into other businesses.\\nEven a house can be a form of wealth, because you can rent it \\nout, although that’ s probably a lower productivity use of land \\nthan some commercial enterprise.\\nSo, my definition of wealth is much more businesses and assets \\nthat can earn while you sleep.\\xa0[78]', metadata={}),\n",
       " Document(page_content='BUILDING  WEALTH ·  53BUILD OR BUY EQUITY IN A BUSINESS\\nIf you don’t own a piece of a business, you don’t have a path \\ntowards financial freedom.\\nWhy is owning equity in a business important to becoming \\nrich?\\nIt’s ownership versus wage work. If you are paid for rent -\\ning out your time, even lawyers and doctors, you can make \\nsome money, but you’re not going to make the money that \\ngives you financial freedom. You’re not going to have passive \\nincome where a business is earning for you while you are on \\nvacation.\\xa0[10]\\nThis is probably one of the most important points. People seem \\nto think you can create wealth—make money through work. \\nIt’s probably not going to work. There are many reasons for \\nthat.\\nWithout ownership, your inputs are very closely tied to your \\noutputs. In almost any salaried job, even one paying a lot per \\nhour like a lawyer or a doctor, you’re still putting in the hours, \\nand every hour you get paid.\\nWithout ownership, when you’re sleeping, you’re not earn -\\ning. When you’re retired, you’re not earning. When you’re on \\nvacation, you’re not earning. And you can’t earn nonlinearly.\\nIf you look at even doctors who get rich (like really rich), it’ s \\nbecause they open a business. They open a private practice. \\nThe private practice builds a brand, and the brand attracts', metadata={})]"
      ]
     },
     "execution_count": 29,
     "metadata": {},
     "output_type": "execute_result"
    }
   ],
   "source": [
    "docs"
   ]
  },
  {
   "cell_type": "code",
   "execution_count": 30,
   "id": "23b38094",
   "metadata": {},
   "outputs": [
    {
     "name": "stdout",
     "output_type": "stream",
     "text": [
      "PART I\n",
      "WEALTH\n",
      "How to get rich without getting lucky.\n"
     ]
    }
   ],
   "source": [
    "# Here's an example of the first document that was returned\n",
    "print(docs[0].page_content[:450])"
   ]
  },
  {
   "cell_type": "code",
   "execution_count": 31,
   "id": "639370d5",
   "metadata": {},
   "outputs": [],
   "source": [
    "from langchain.llms import OpenAI\n",
    "from langchain.chains.question_answering import load_qa_chain"
   ]
  },
  {
   "cell_type": "code",
   "execution_count": 55,
   "id": "f53c8b62",
   "metadata": {},
   "outputs": [],
   "source": [
    "llm = OpenAI(temperature=0, openai_api_key=OPENAI_API_KEY)\n",
    "chain = load_qa_chain(llm, chain_type=\"stuff\")"
   ]
  },
  {
   "cell_type": "code",
   "execution_count": 58,
   "id": "0243d567",
   "metadata": {},
   "outputs": [],
   "source": [
    "query = \"keey points to start a business ?\"\n",
    "docs = docsearch.similarity_search(query)"
   ]
  },
  {
   "cell_type": "code",
   "execution_count": 59,
   "id": "1d063671",
   "metadata": {},
   "outputs": [
    {
     "data": {
      "text/plain": [
       "' The key points to start a business are to have a clear idea of what you want to do, create a business plan, secure funding, and build a team. Additionally, it is important to have a good understanding of the market and the competition, as well as a plan for marketing and sales.'"
      ]
     },
     "execution_count": 59,
     "metadata": {},
     "output_type": "execute_result"
    }
   ],
   "source": [
    "\n",
    "chain.run(input_documents=docs, question=query)"
   ]
  },
  {
   "cell_type": "code",
   "execution_count": null,
   "id": "6c74c517",
   "metadata": {},
   "outputs": [],
   "source": []
  }
 ],
 "metadata": {
  "kernelspec": {
   "display_name": "Python 3 (ipykernel)",
   "language": "python",
   "name": "python3"
  },
  "language_info": {
   "codemirror_mode": {
    "name": "ipython",
    "version": 3
   },
   "file_extension": ".py",
   "mimetype": "text/x-python",
   "name": "python",
   "nbconvert_exporter": "python",
   "pygments_lexer": "ipython3",
   "version": "3.10.9"
  }
 },
 "nbformat": 4,
 "nbformat_minor": 5
}
